{
 "cells": [
  {
   "cell_type": "markdown",
   "metadata": {},
   "source": [
    "# Titanic Project: Gradient Boosting\n"
   ]
  },
  {
   "cell_type": "markdown",
   "metadata": {},
   "source": [
    "## Step 1: Import packages"
   ]
  },
  {
   "cell_type": "code",
   "execution_count": 1,
   "metadata": {},
   "outputs": [],
   "source": [
    "import pandas as pd\n",
    "from sklearn.ensemble import GradientBoostingClassifier, GradientBoostingRegressor\n",
    "from sklearn.model_selection import GridSearchCV\n",
    "import joblib\n",
    "import warnings"
   ]
  },
  {
   "cell_type": "code",
   "execution_count": 2,
   "metadata": {},
   "outputs": [],
   "source": [
    "# Block unwanted warnings\n",
    "warnings.filterwarnings('ignore', category = FutureWarning)\n",
    "warnings.filterwarnings('ignore', category = DeprecationWarning)"
   ]
  },
  {
   "cell_type": "markdown",
   "metadata": {},
   "source": [
    "## Step 2: Import the dataset"
   ]
  },
  {
   "cell_type": "code",
   "execution_count": 3,
   "metadata": {},
   "outputs": [],
   "source": [
    "tr_features = pd.read_csv(r\"C:\\Users\\smart\\Desktop\\GitHub\\Titanic\\data\\X_train.csv\")\n",
    "tr_labels = pd.read_csv(r\"C:\\Users\\smart\\Desktop\\GitHub\\Titanic\\data\\y_train.csv\",header = None)"
   ]
  },
  {
   "cell_type": "code",
   "execution_count": 4,
   "metadata": {},
   "outputs": [
    {
     "name": "stdout",
     "output_type": "stream",
     "text": [
      "number of rows in training features:  534\n"
     ]
    },
    {
     "data": {
      "text/html": [
       "<div>\n",
       "<style scoped>\n",
       "    .dataframe tbody tr th:only-of-type {\n",
       "        vertical-align: middle;\n",
       "    }\n",
       "\n",
       "    .dataframe tbody tr th {\n",
       "        vertical-align: top;\n",
       "    }\n",
       "\n",
       "    .dataframe thead th {\n",
       "        text-align: right;\n",
       "    }\n",
       "</style>\n",
       "<table border=\"1\" class=\"dataframe\">\n",
       "  <thead>\n",
       "    <tr style=\"text-align: right;\">\n",
       "      <th></th>\n",
       "      <th>Pclass</th>\n",
       "      <th>Sex</th>\n",
       "      <th>Age</th>\n",
       "      <th>Fare</th>\n",
       "      <th>Family_cnt</th>\n",
       "      <th>Cabin_ind</th>\n",
       "    </tr>\n",
       "  </thead>\n",
       "  <tbody>\n",
       "    <tr>\n",
       "      <th>0</th>\n",
       "      <td>2</td>\n",
       "      <td>0</td>\n",
       "      <td>62.0</td>\n",
       "      <td>10.5000</td>\n",
       "      <td>0</td>\n",
       "      <td>0</td>\n",
       "    </tr>\n",
       "    <tr>\n",
       "      <th>1</th>\n",
       "      <td>3</td>\n",
       "      <td>0</td>\n",
       "      <td>8.0</td>\n",
       "      <td>29.1250</td>\n",
       "      <td>5</td>\n",
       "      <td>0</td>\n",
       "    </tr>\n",
       "    <tr>\n",
       "      <th>2</th>\n",
       "      <td>3</td>\n",
       "      <td>0</td>\n",
       "      <td>32.0</td>\n",
       "      <td>56.4958</td>\n",
       "      <td>0</td>\n",
       "      <td>0</td>\n",
       "    </tr>\n",
       "    <tr>\n",
       "      <th>3</th>\n",
       "      <td>3</td>\n",
       "      <td>1</td>\n",
       "      <td>20.0</td>\n",
       "      <td>9.8250</td>\n",
       "      <td>1</td>\n",
       "      <td>0</td>\n",
       "    </tr>\n",
       "    <tr>\n",
       "      <th>4</th>\n",
       "      <td>2</td>\n",
       "      <td>1</td>\n",
       "      <td>28.0</td>\n",
       "      <td>13.0000</td>\n",
       "      <td>0</td>\n",
       "      <td>0</td>\n",
       "    </tr>\n",
       "  </tbody>\n",
       "</table>\n",
       "</div>"
      ],
      "text/plain": [
       "   Pclass  Sex   Age     Fare  Family_cnt  Cabin_ind\n",
       "0       2    0  62.0  10.5000           0          0\n",
       "1       3    0   8.0  29.1250           5          0\n",
       "2       3    0  32.0  56.4958           0          0\n",
       "3       3    1  20.0   9.8250           1          0\n",
       "4       2    1  28.0  13.0000           0          0"
      ]
     },
     "execution_count": 4,
     "metadata": {},
     "output_type": "execute_result"
    }
   ],
   "source": [
    "print(\"number of rows in training features: \",len(tr_features.index))\n",
    "tr_features.head()"
   ]
  },
  {
   "cell_type": "code",
   "execution_count": 5,
   "metadata": {},
   "outputs": [
    {
     "name": "stdout",
     "output_type": "stream",
     "text": [
      "number of rows in training labels:  534\n"
     ]
    },
    {
     "data": {
      "text/html": [
       "<div>\n",
       "<style scoped>\n",
       "    .dataframe tbody tr th:only-of-type {\n",
       "        vertical-align: middle;\n",
       "    }\n",
       "\n",
       "    .dataframe tbody tr th {\n",
       "        vertical-align: top;\n",
       "    }\n",
       "\n",
       "    .dataframe thead th {\n",
       "        text-align: right;\n",
       "    }\n",
       "</style>\n",
       "<table border=\"1\" class=\"dataframe\">\n",
       "  <thead>\n",
       "    <tr style=\"text-align: right;\">\n",
       "      <th></th>\n",
       "      <th>0</th>\n",
       "    </tr>\n",
       "  </thead>\n",
       "  <tbody>\n",
       "    <tr>\n",
       "      <th>0</th>\n",
       "      <td>1</td>\n",
       "    </tr>\n",
       "    <tr>\n",
       "      <th>1</th>\n",
       "      <td>0</td>\n",
       "    </tr>\n",
       "    <tr>\n",
       "      <th>2</th>\n",
       "      <td>1</td>\n",
       "    </tr>\n",
       "    <tr>\n",
       "      <th>3</th>\n",
       "      <td>0</td>\n",
       "    </tr>\n",
       "    <tr>\n",
       "      <th>4</th>\n",
       "      <td>1</td>\n",
       "    </tr>\n",
       "  </tbody>\n",
       "</table>\n",
       "</div>"
      ],
      "text/plain": [
       "   0\n",
       "0  1\n",
       "1  0\n",
       "2  1\n",
       "3  0\n",
       "4  1"
      ]
     },
     "execution_count": 5,
     "metadata": {},
     "output_type": "execute_result"
    }
   ],
   "source": [
    "print(\"number of rows in training labels: \",len(tr_labels.index))\n",
    "tr_labels.head()"
   ]
  },
  {
   "cell_type": "markdown",
   "metadata": {},
   "source": [
    "## Step 3: Explore the model & its hyper parameters"
   ]
  },
  {
   "cell_type": "code",
   "execution_count": 6,
   "metadata": {},
   "outputs": [
    {
     "name": "stdout",
     "output_type": "stream",
     "text": [
      "GradientBoostingRegressor(alpha=0.9, criterion='friedman_mse', init=None,\n",
      "             learning_rate=0.1, loss='ls', max_depth=3, max_features=None,\n",
      "             max_leaf_nodes=None, min_impurity_decrease=0.0,\n",
      "             min_impurity_split=None, min_samples_leaf=1,\n",
      "             min_samples_split=2, min_weight_fraction_leaf=0.0,\n",
      "             n_estimators=100, n_iter_no_change=None, presort='auto',\n",
      "             random_state=None, subsample=1.0, tol=0.0001,\n",
      "             validation_fraction=0.1, verbose=0, warm_start=False)\n"
     ]
    },
    {
     "data": {
      "text/plain": [
       "GradientBoostingClassifier(criterion='friedman_mse', init=None,\n",
       "              learning_rate=0.1, loss='deviance', max_depth=3,\n",
       "              max_features=None, max_leaf_nodes=None,\n",
       "              min_impurity_decrease=0.0, min_impurity_split=None,\n",
       "              min_samples_leaf=1, min_samples_split=2,\n",
       "              min_weight_fraction_leaf=0.0, n_estimators=100,\n",
       "              n_iter_no_change=None, presort='auto', random_state=None,\n",
       "              subsample=1.0, tol=0.0001, validation_fraction=0.1,\n",
       "              verbose=0, warm_start=False)"
      ]
     },
     "execution_count": 6,
     "metadata": {},
     "output_type": "execute_result"
    }
   ],
   "source": [
    "print(GradientBoostingRegressor())\n",
    "GradientBoostingClassifier()\n",
    "# Here we need GradientBoostingClassifier\n",
    "# The 3 most important hyperparameters are: max_depth, n_estimators and learning_rate \n",
    "# n_estimators: number of individual decision tree in the ensemble (should be higher than values for RandomForest)\n",
    "# max_depth: maximum depth allowed for each decision tree in the ensemble (should be lower than values for RandomForest)"
   ]
  },
  {
   "cell_type": "markdown",
   "metadata": {},
   "source": [
    "## Step 4: Create a function for reading hyperparameter evaluation "
   ]
  },
  {
   "cell_type": "code",
   "execution_count": 8,
   "metadata": {},
   "outputs": [],
   "source": [
    "\n",
    "\n",
    "def print_results(results):\n",
    "    print('BEST PARAM: {}\\n'.format(results.best_params_))\n",
    "    \n",
    "    means = results.cv_results_['mean_test_score']\n",
    "    stds = results.cv_results_['std_test_score']\n",
    "    for mean, std, params in zip(means, stds, results.cv_results_['params']):\n",
    "        print('{} (+/-{}) for {}'.format(round(mean, 3), round(std * 2, 3), params))\n",
    "        \n",
    "     "
   ]
  },
  {
   "cell_type": "markdown",
   "metadata": {},
   "source": [
    "## Step 5: Run k-fold Cross Validation (CV) on the data; compare results for different hyperparameters"
   ]
  },
  {
   "cell_type": "code",
   "execution_count": 11,
   "metadata": {},
   "outputs": [
    {
     "name": "stdout",
     "output_type": "stream",
     "text": [
      "BEST PARAM: {'learning_rate': 0.01, 'max_depth': 3, 'n_estimators': 500}\n",
      "\n",
      "0.624 (+/-0.005) for {'learning_rate': 0.01, 'max_depth': 1, 'n_estimators': 5}\n",
      "0.796 (+/-0.116) for {'learning_rate': 0.01, 'max_depth': 1, 'n_estimators': 50}\n",
      "0.796 (+/-0.116) for {'learning_rate': 0.01, 'max_depth': 1, 'n_estimators': 250}\n",
      "0.811 (+/-0.118) for {'learning_rate': 0.01, 'max_depth': 1, 'n_estimators': 500}\n",
      "0.624 (+/-0.005) for {'learning_rate': 0.01, 'max_depth': 3, 'n_estimators': 5}\n",
      "0.811 (+/-0.071) for {'learning_rate': 0.01, 'max_depth': 3, 'n_estimators': 50}\n",
      "0.83 (+/-0.076) for {'learning_rate': 0.01, 'max_depth': 3, 'n_estimators': 250}\n",
      "0.837 (+/-0.073) for {'learning_rate': 0.01, 'max_depth': 3, 'n_estimators': 500}\n",
      "0.624 (+/-0.005) for {'learning_rate': 0.01, 'max_depth': 5, 'n_estimators': 5}\n",
      "0.82 (+/-0.052) for {'learning_rate': 0.01, 'max_depth': 5, 'n_estimators': 50}\n",
      "0.818 (+/-0.045) for {'learning_rate': 0.01, 'max_depth': 5, 'n_estimators': 250}\n",
      "0.824 (+/-0.033) for {'learning_rate': 0.01, 'max_depth': 5, 'n_estimators': 500}\n",
      "0.624 (+/-0.005) for {'learning_rate': 0.01, 'max_depth': 7, 'n_estimators': 5}\n",
      "0.816 (+/-0.051) for {'learning_rate': 0.01, 'max_depth': 7, 'n_estimators': 50}\n",
      "0.815 (+/-0.03) for {'learning_rate': 0.01, 'max_depth': 7, 'n_estimators': 250}\n",
      "0.803 (+/-0.015) for {'learning_rate': 0.01, 'max_depth': 7, 'n_estimators': 500}\n",
      "0.624 (+/-0.005) for {'learning_rate': 0.01, 'max_depth': 9, 'n_estimators': 5}\n",
      "0.801 (+/-0.059) for {'learning_rate': 0.01, 'max_depth': 9, 'n_estimators': 50}\n",
      "0.803 (+/-0.026) for {'learning_rate': 0.01, 'max_depth': 9, 'n_estimators': 250}\n",
      "0.792 (+/-0.035) for {'learning_rate': 0.01, 'max_depth': 9, 'n_estimators': 500}\n",
      "0.796 (+/-0.116) for {'learning_rate': 0.1, 'max_depth': 1, 'n_estimators': 5}\n",
      "0.815 (+/-0.12) for {'learning_rate': 0.1, 'max_depth': 1, 'n_estimators': 50}\n",
      "0.818 (+/-0.112) for {'learning_rate': 0.1, 'max_depth': 1, 'n_estimators': 250}\n",
      "0.828 (+/-0.093) for {'learning_rate': 0.1, 'max_depth': 1, 'n_estimators': 500}\n",
      "0.813 (+/-0.073) for {'learning_rate': 0.1, 'max_depth': 3, 'n_estimators': 5}\n",
      "0.837 (+/-0.074) for {'learning_rate': 0.1, 'max_depth': 3, 'n_estimators': 50}\n",
      "0.822 (+/-0.036) for {'learning_rate': 0.1, 'max_depth': 3, 'n_estimators': 250}\n",
      "0.807 (+/-0.04) for {'learning_rate': 0.1, 'max_depth': 3, 'n_estimators': 500}\n",
      "0.815 (+/-0.053) for {'learning_rate': 0.1, 'max_depth': 5, 'n_estimators': 5}\n",
      "0.818 (+/-0.041) for {'learning_rate': 0.1, 'max_depth': 5, 'n_estimators': 50}\n",
      "0.801 (+/-0.052) for {'learning_rate': 0.1, 'max_depth': 5, 'n_estimators': 250}\n",
      "0.801 (+/-0.056) for {'learning_rate': 0.1, 'max_depth': 5, 'n_estimators': 500}\n",
      "0.82 (+/-0.063) for {'learning_rate': 0.1, 'max_depth': 7, 'n_estimators': 5}\n",
      "0.801 (+/-0.023) for {'learning_rate': 0.1, 'max_depth': 7, 'n_estimators': 50}\n",
      "0.792 (+/-0.036) for {'learning_rate': 0.1, 'max_depth': 7, 'n_estimators': 250}\n",
      "0.798 (+/-0.041) for {'learning_rate': 0.1, 'max_depth': 7, 'n_estimators': 500}\n",
      "0.801 (+/-0.048) for {'learning_rate': 0.1, 'max_depth': 9, 'n_estimators': 5}\n",
      "0.794 (+/-0.04) for {'learning_rate': 0.1, 'max_depth': 9, 'n_estimators': 50}\n",
      "0.788 (+/-0.033) for {'learning_rate': 0.1, 'max_depth': 9, 'n_estimators': 250}\n",
      "0.794 (+/-0.054) for {'learning_rate': 0.1, 'max_depth': 9, 'n_estimators': 500}\n",
      "0.818 (+/-0.1) for {'learning_rate': 1, 'max_depth': 1, 'n_estimators': 5}\n",
      "0.83 (+/-0.078) for {'learning_rate': 1, 'max_depth': 1, 'n_estimators': 50}\n",
      "0.826 (+/-0.069) for {'learning_rate': 1, 'max_depth': 1, 'n_estimators': 250}\n",
      "0.818 (+/-0.083) for {'learning_rate': 1, 'max_depth': 1, 'n_estimators': 500}\n",
      "0.824 (+/-0.059) for {'learning_rate': 1, 'max_depth': 3, 'n_estimators': 5}\n",
      "0.811 (+/-0.053) for {'learning_rate': 1, 'max_depth': 3, 'n_estimators': 50}\n",
      "0.796 (+/-0.028) for {'learning_rate': 1, 'max_depth': 3, 'n_estimators': 250}\n",
      "0.79 (+/-0.023) for {'learning_rate': 1, 'max_depth': 3, 'n_estimators': 500}\n",
      "0.805 (+/-0.028) for {'learning_rate': 1, 'max_depth': 5, 'n_estimators': 5}\n",
      "0.805 (+/-0.042) for {'learning_rate': 1, 'max_depth': 5, 'n_estimators': 50}\n",
      "0.813 (+/-0.058) for {'learning_rate': 1, 'max_depth': 5, 'n_estimators': 250}\n",
      "0.79 (+/-0.062) for {'learning_rate': 1, 'max_depth': 5, 'n_estimators': 500}\n",
      "0.773 (+/-0.034) for {'learning_rate': 1, 'max_depth': 7, 'n_estimators': 5}\n",
      "0.8 (+/-0.066) for {'learning_rate': 1, 'max_depth': 7, 'n_estimators': 50}\n",
      "0.807 (+/-0.053) for {'learning_rate': 1, 'max_depth': 7, 'n_estimators': 250}\n",
      "0.798 (+/-0.068) for {'learning_rate': 1, 'max_depth': 7, 'n_estimators': 500}\n",
      "0.777 (+/-0.032) for {'learning_rate': 1, 'max_depth': 9, 'n_estimators': 5}\n",
      "0.8 (+/-0.049) for {'learning_rate': 1, 'max_depth': 9, 'n_estimators': 50}\n",
      "0.805 (+/-0.036) for {'learning_rate': 1, 'max_depth': 9, 'n_estimators': 250}\n",
      "0.798 (+/-0.043) for {'learning_rate': 1, 'max_depth': 9, 'n_estimators': 500}\n",
      "0.204 (+/-0.116) for {'learning_rate': 10, 'max_depth': 1, 'n_estimators': 5}\n",
      "0.204 (+/-0.116) for {'learning_rate': 10, 'max_depth': 1, 'n_estimators': 50}\n",
      "0.204 (+/-0.116) for {'learning_rate': 10, 'max_depth': 1, 'n_estimators': 250}\n",
      "0.204 (+/-0.116) for {'learning_rate': 10, 'max_depth': 1, 'n_estimators': 500}\n",
      "0.313 (+/-0.198) for {'learning_rate': 10, 'max_depth': 3, 'n_estimators': 5}\n",
      "0.313 (+/-0.198) for {'learning_rate': 10, 'max_depth': 3, 'n_estimators': 50}\n",
      "0.313 (+/-0.198) for {'learning_rate': 10, 'max_depth': 3, 'n_estimators': 250}\n",
      "0.313 (+/-0.198) for {'learning_rate': 10, 'max_depth': 3, 'n_estimators': 500}\n",
      "0.496 (+/-0.383) for {'learning_rate': 10, 'max_depth': 5, 'n_estimators': 5}\n",
      "0.472 (+/-0.394) for {'learning_rate': 10, 'max_depth': 5, 'n_estimators': 50}\n",
      "0.416 (+/-0.33) for {'learning_rate': 10, 'max_depth': 5, 'n_estimators': 250}\n",
      "0.464 (+/-0.318) for {'learning_rate': 10, 'max_depth': 5, 'n_estimators': 500}\n",
      "0.642 (+/-0.13) for {'learning_rate': 10, 'max_depth': 7, 'n_estimators': 5}\n",
      "0.545 (+/-0.237) for {'learning_rate': 10, 'max_depth': 7, 'n_estimators': 50}\n",
      "0.631 (+/-0.126) for {'learning_rate': 10, 'max_depth': 7, 'n_estimators': 250}\n",
      "0.577 (+/-0.195) for {'learning_rate': 10, 'max_depth': 7, 'n_estimators': 500}\n",
      "0.702 (+/-0.11) for {'learning_rate': 10, 'max_depth': 9, 'n_estimators': 5}\n",
      "0.706 (+/-0.137) for {'learning_rate': 10, 'max_depth': 9, 'n_estimators': 50}\n",
      "0.704 (+/-0.12) for {'learning_rate': 10, 'max_depth': 9, 'n_estimators': 250}\n",
      "0.68 (+/-0.132) for {'learning_rate': 10, 'max_depth': 9, 'n_estimators': 500}\n",
      "0.376 (+/-0.005) for {'learning_rate': 100, 'max_depth': 1, 'n_estimators': 5}\n",
      "0.376 (+/-0.005) for {'learning_rate': 100, 'max_depth': 1, 'n_estimators': 50}\n",
      "0.376 (+/-0.005) for {'learning_rate': 100, 'max_depth': 1, 'n_estimators': 250}\n",
      "0.376 (+/-0.005) for {'learning_rate': 100, 'max_depth': 1, 'n_estimators': 500}\n",
      "0.292 (+/-0.102) for {'learning_rate': 100, 'max_depth': 3, 'n_estimators': 5}\n",
      "0.292 (+/-0.102) for {'learning_rate': 100, 'max_depth': 3, 'n_estimators': 50}\n",
      "0.292 (+/-0.102) for {'learning_rate': 100, 'max_depth': 3, 'n_estimators': 250}\n",
      "0.292 (+/-0.102) for {'learning_rate': 100, 'max_depth': 3, 'n_estimators': 500}\n",
      "0.375 (+/-0.175) for {'learning_rate': 100, 'max_depth': 5, 'n_estimators': 5}\n",
      "0.371 (+/-0.177) for {'learning_rate': 100, 'max_depth': 5, 'n_estimators': 50}\n",
      "0.376 (+/-0.174) for {'learning_rate': 100, 'max_depth': 5, 'n_estimators': 250}\n",
      "0.376 (+/-0.172) for {'learning_rate': 100, 'max_depth': 5, 'n_estimators': 500}\n",
      "0.53 (+/-0.111) for {'learning_rate': 100, 'max_depth': 7, 'n_estimators': 5}\n",
      "0.567 (+/-0.083) for {'learning_rate': 100, 'max_depth': 7, 'n_estimators': 50}\n",
      "0.564 (+/-0.117) for {'learning_rate': 100, 'max_depth': 7, 'n_estimators': 250}\n",
      "0.592 (+/-0.116) for {'learning_rate': 100, 'max_depth': 7, 'n_estimators': 500}\n",
      "0.618 (+/-0.152) for {'learning_rate': 100, 'max_depth': 9, 'n_estimators': 5}\n",
      "0.62 (+/-0.089) for {'learning_rate': 100, 'max_depth': 9, 'n_estimators': 50}\n",
      "0.625 (+/-0.14) for {'learning_rate': 100, 'max_depth': 9, 'n_estimators': 250}\n",
      "0.642 (+/-0.1) for {'learning_rate': 100, 'max_depth': 9, 'n_estimators': 500}\n"
     ]
    }
   ],
   "source": [
    "# The 3 most important hyperparameters are: max_depth, n_estimators and learning_rate \n",
    "# n_estimators: number of individual decision tree in the ensemble (should be higher than values for RandomForest)\n",
    "# max_depth: maximum depth allowed for each decision tree in the ensemble (should be lower than values for RandomForest)\n",
    "\n",
    "gb = GradientBoostingClassifier()\n",
    "parameters = {\n",
    "    'n_estimators' : [5, 50, 250, 500],\n",
    "    'max_depth' : [1, 3, 5, 7, 9],\n",
    "    'learning_rate' : [0.01, 0.1, 1, 10, 100]\n",
    "}\n",
    "\n",
    "\n",
    "cv = GridSearchCV(gb, parameters, cv = 5)\n",
    "cv.fit(tr_features, tr_labels.values.ravel())\n",
    "\n",
    "print_results(cv)"
   ]
  },
  {
   "cell_type": "markdown",
   "metadata": {},
   "source": [
    "## Step 6: Select model with the best results"
   ]
  },
  {
   "cell_type": "code",
   "execution_count": 13,
   "metadata": {},
   "outputs": [
    {
     "data": {
      "text/plain": [
       "GradientBoostingClassifier(criterion='friedman_mse', init=None,\n",
       "              learning_rate=0.01, loss='deviance', max_depth=3,\n",
       "              max_features=None, max_leaf_nodes=None,\n",
       "              min_impurity_decrease=0.0, min_impurity_split=None,\n",
       "              min_samples_leaf=1, min_samples_split=2,\n",
       "              min_weight_fraction_leaf=0.0, n_estimators=500,\n",
       "              n_iter_no_change=None, presort='auto', random_state=None,\n",
       "              subsample=1.0, tol=0.0001, validation_fraction=0.1,\n",
       "              verbose=0, warm_start=False)"
      ]
     },
     "execution_count": 13,
     "metadata": {},
     "output_type": "execute_result"
    }
   ],
   "source": [
    "# Model with best results:\n",
    "cv.best_estimator_"
   ]
  },
  {
   "cell_type": "markdown",
   "metadata": {},
   "source": [
    "## Step 7: Write out picked model "
   ]
  },
  {
   "cell_type": "code",
   "execution_count": 15,
   "metadata": {},
   "outputs": [
    {
     "data": {
      "text/plain": [
       "['C:\\\\Users\\\\smart\\\\Desktop\\\\GitHub\\\\Titanic\\\\models\\\\GB_model.pkl']"
      ]
     },
     "execution_count": 15,
     "metadata": {},
     "output_type": "execute_result"
    }
   ],
   "source": [
    "joblib.dump(cv.best_estimator_, r\"C:\\Users\\smart\\Desktop\\GitHub\\Titanic\\models\\GB_model.pkl\")"
   ]
  },
  {
   "cell_type": "code",
   "execution_count": null,
   "metadata": {},
   "outputs": [],
   "source": []
  }
 ],
 "metadata": {
  "kernelspec": {
   "display_name": "Python 3",
   "language": "python",
   "name": "python3"
  },
  "language_info": {
   "codemirror_mode": {
    "name": "ipython",
    "version": 3
   },
   "file_extension": ".py",
   "mimetype": "text/x-python",
   "name": "python",
   "nbconvert_exporter": "python",
   "pygments_lexer": "ipython3",
   "version": "3.7.3"
  }
 },
 "nbformat": 4,
 "nbformat_minor": 2
}
